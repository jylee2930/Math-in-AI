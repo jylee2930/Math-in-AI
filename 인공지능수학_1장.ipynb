{
  "nbformat": 4,
  "nbformat_minor": 0,
  "metadata": {
    "colab": {
      "private_outputs": true,
      "provenance": [],
      "machine_shape": "hm",
      "gpuType": "A100",
      "authorship_tag": "ABX9TyN8sbzVyp1P1RrMPWy8FB83",
      "include_colab_link": true
    },
    "kernelspec": {
      "name": "python3",
      "display_name": "Python 3"
    },
    "language_info": {
      "name": "python"
    },
    "accelerator": "GPU"
  },
  "cells": [
    {
      "cell_type": "markdown",
      "metadata": {
        "id": "view-in-github",
        "colab_type": "text"
      },
      "source": [
        "<a href=\"https://colab.research.google.com/github/jylee2930/Math-in-AI/blob/main/%EC%9D%B8%EA%B3%B5%EC%A7%80%EB%8A%A5%EC%88%98%ED%95%99_1%EC%9E%A5.ipynb\" target=\"_parent\"><img src=\"https://colab.research.google.com/assets/colab-badge.svg\" alt=\"Open In Colab\"/></a>"
      ]
    },
    {
      "cell_type": "markdown",
      "source": [
        "## 1차시 파이썬 자료형"
      ],
      "metadata": {
        "id": "A42AE11OY3oj"
      }
    },
    {
      "cell_type": "code",
      "execution_count": null,
      "metadata": {
        "id": "DqYxh8SnIrQA"
      },
      "outputs": [],
      "source": [
        "##정수형 자료\n",
        "a =  3\n",
        "print(a)"
      ]
    },
    {
      "cell_type": "code",
      "source": [
        "## 정수형 자료형 알아보기\n",
        "type(a)"
      ],
      "metadata": {
        "id": "6HwBvNGRUhHl"
      },
      "execution_count": null,
      "outputs": []
    },
    {
      "cell_type": "code",
      "source": [
        "##실수형 자료\n",
        "pi  =  3.1415167\n",
        "print(pi)"
      ],
      "metadata": {
        "id": "2p0Q2UedUjNX"
      },
      "execution_count": null,
      "outputs": []
    },
    {
      "cell_type": "code",
      "source": [
        "type(pi)"
      ],
      "metadata": {
        "id": "EwWxFfmGUrJ7"
      },
      "execution_count": null,
      "outputs": []
    },
    {
      "cell_type": "code",
      "source": [
        "name = \"jiyeon\""
      ],
      "metadata": {
        "id": "n6xtngQYUsre"
      },
      "execution_count": null,
      "outputs": []
    },
    {
      "cell_type": "code",
      "source": [
        "print(name)"
      ],
      "metadata": {
        "id": "WlnZin3yUz1n"
      },
      "execution_count": null,
      "outputs": []
    },
    {
      "cell_type": "code",
      "source": [
        "type(name)"
      ],
      "metadata": {
        "id": "47I7c2NWU1TP"
      },
      "execution_count": null,
      "outputs": []
    },
    {
      "cell_type": "code",
      "source": [
        "A = [1,3,5,7,9]"
      ],
      "metadata": {
        "id": "tJrZFHTTU3Sq"
      },
      "execution_count": null,
      "outputs": []
    },
    {
      "cell_type": "code",
      "source": [
        "type(A)"
      ],
      "metadata": {
        "id": "LemaB3-QU-T3"
      },
      "execution_count": null,
      "outputs": []
    },
    {
      "cell_type": "code",
      "source": [
        "print(A[0])"
      ],
      "metadata": {
        "id": "jlCRCBgKU_0b"
      },
      "execution_count": null,
      "outputs": []
    },
    {
      "cell_type": "code",
      "source": [
        "print(A[-1])"
      ],
      "metadata": {
        "id": "SrRY8LODVM-T"
      },
      "execution_count": null,
      "outputs": []
    },
    {
      "cell_type": "code",
      "source": [
        "##자료의 길이 또는 갯수\n",
        "len(A)"
      ],
      "metadata": {
        "id": "HURU2U_dVVhS"
      },
      "execution_count": null,
      "outputs": []
    },
    {
      "cell_type": "code",
      "source": [
        "##변수명[a:b] 인덱스 a 이상 b 미만\n",
        "A[1:3]"
      ],
      "metadata": {
        "id": "WxJff1M5YYSc"
      },
      "execution_count": null,
      "outputs": []
    },
    {
      "cell_type": "code",
      "source": [
        "##올림, 반올림, 버림\n",
        "import numpy as np"
      ],
      "metadata": {
        "id": "pXTeSy6kYkR8"
      },
      "execution_count": null,
      "outputs": []
    },
    {
      "cell_type": "code",
      "source": [
        "print(pi)"
      ],
      "metadata": {
        "id": "fZcWKXv7aVMF"
      },
      "execution_count": null,
      "outputs": []
    },
    {
      "cell_type": "code",
      "source": [
        "##소수점 아래자리\n",
        "round(pi, 3)"
      ],
      "metadata": {
        "id": "TWNXHVg1ah8_"
      },
      "execution_count": null,
      "outputs": []
    },
    {
      "cell_type": "code",
      "source": [
        "## np.ceil() 올림\n",
        "np.ceil(pi)"
      ],
      "metadata": {
        "id": "j0I_SMPFasf-"
      },
      "execution_count": null,
      "outputs": []
    },
    {
      "cell_type": "code",
      "source": [
        "#np.trunc() 버림\n",
        "np.trunc(pi)"
      ],
      "metadata": {
        "id": "WR9JLNdHbJT7"
      },
      "execution_count": null,
      "outputs": []
    },
    {
      "cell_type": "code",
      "source": [
        "##제곱근\n",
        "np.sqrt(4)"
      ],
      "metadata": {
        "id": "SqHS8ZsNbUE0"
      },
      "execution_count": null,
      "outputs": []
    },
    {
      "cell_type": "code",
      "source": [
        "type(a)"
      ],
      "metadata": {
        "id": "sa3XUiSLb1N5"
      },
      "execution_count": null,
      "outputs": []
    },
    {
      "cell_type": "code",
      "source": [
        "##자료형 변환 int -> float\n",
        "a = float(a)"
      ],
      "metadata": {
        "id": "CjoPSYW_cDez"
      },
      "execution_count": null,
      "outputs": []
    },
    {
      "cell_type": "code",
      "source": [
        "\n",
        "type(a)"
      ],
      "metadata": {
        "id": "PxRO8SkGcHGq"
      },
      "execution_count": null,
      "outputs": []
    },
    {
      "cell_type": "code",
      "source": [
        "##자료형 변환 float-> int\n",
        "a = int(a)"
      ],
      "metadata": {
        "id": "_bze88S4cLh_"
      },
      "execution_count": null,
      "outputs": []
    },
    {
      "cell_type": "code",
      "source": [
        "type(a)"
      ],
      "metadata": {
        "id": "k70zTFMucVri"
      },
      "execution_count": null,
      "outputs": []
    },
    {
      "cell_type": "markdown",
      "source": [
        "# 외부 입력\n",
        "##input()"
      ],
      "metadata": {
        "id": "yKsmf6TLeWDS"
      }
    },
    {
      "cell_type": "code",
      "source": [
        "a = input()\n"
      ],
      "metadata": {
        "id": "zsj0ik48cXLm"
      },
      "execution_count": null,
      "outputs": []
    },
    {
      "cell_type": "code",
      "source": [
        "type(a)"
      ],
      "metadata": {
        "id": "Vto_7-IbeOtc"
      },
      "execution_count": null,
      "outputs": []
    },
    {
      "cell_type": "markdown",
      "source": [
        "## 3. 조건문(1)\n",
        "## if   조건 :\n",
        "## else:"
      ],
      "metadata": {
        "id": "RVMZOrHHGkrj"
      }
    },
    {
      "cell_type": "code",
      "source": [
        "##1. 로그인하기\n",
        "print(\"비밀번호 입력\")\n",
        "psw = input()\n",
        "if psw == \"1234@@@@@@@\":\n",
        "  print(\"로그인 성공\")\n",
        "else:\n",
        "  print(\"로그인 실패\")"
      ],
      "metadata": {
        "id": "SKf3FcCIHmFI"
      },
      "execution_count": null,
      "outputs": []
    },
    {
      "cell_type": "markdown",
      "source": [
        "## 조건문(2)\n",
        "## if 조건1:\n",
        "## elif 조건2 :\n",
        "## else:"
      ],
      "metadata": {
        "id": "qlpm8G3RJ9Tb"
      }
    },
    {
      "cell_type": "code",
      "source": [
        "vegi = [\"오이\", \"상추\",\"고추\" ]\n",
        "fruit = [\"사과\",\"딸기\",\"바나나\"]\n",
        "meat = [\"닭고기\", \"소고기\", \"돼지고기\", \"양고기\"]\n",
        "print(\"구입 제품 입력\")\n",
        "d = input()\n",
        "if d in vegi:\n",
        "  print(\"채소입니다.3번 코너로 가세요\")\n",
        "elif d in fruit:\n",
        "  print(\"과일입니다., 2번 코너로 가세요\")\n",
        "elif d in meat:\n",
        "  print(\"고기입니다., 1번 코너로 가세요\")\n",
        "else:\n",
        "  print(\"해당 제품이 없습니다.다음에 들려주세요.\")"
      ],
      "metadata": {
        "id": "u4DbDDdLHmCQ"
      },
      "execution_count": null,
      "outputs": []
    },
    {
      "cell_type": "markdown",
      "source": [
        "## 3. 반목문"
      ],
      "metadata": {
        "id": "9ykrM597KMCz"
      }
    },
    {
      "cell_type": "code",
      "source": [
        "for i in range(1,101):\n",
        "    print(\"{}\".format(i))"
      ],
      "metadata": {
        "id": "A-ZTV6giLh_D"
      },
      "execution_count": null,
      "outputs": []
    },
    {
      "cell_type": "code",
      "source": [
        "##1~100총합 출력\n",
        "a = 0\n",
        "for i in range(1,101):\n",
        "    a += i\n",
        "print(\"{}\".format(a))"
      ],
      "metadata": {
        "id": "2oAHjY_uLLF7"
      },
      "execution_count": null,
      "outputs": []
    },
    {
      "cell_type": "code",
      "source": [
        "##1~100 까지 짝수출력\n",
        "for i in range(1,101):\n",
        "    if i % 2 == 0:\n",
        "        print(\"{}\".format(i))"
      ],
      "metadata": {
        "id": "5E1yphRWLqOD"
      },
      "execution_count": null,
      "outputs": []
    },
    {
      "cell_type": "code",
      "source": [
        "## 짝수 총합\n",
        "t_even = 0\n",
        "for i in range(1,101):\n",
        "    if i % 2 == 0:\n",
        "        t_even += i\n",
        "        print(\"{} 까지 짝수 누적합 : {}\".format(i, t_even))\n",
        "print(\"짝수 총합 : {}\".format(t_even))"
      ],
      "metadata": {
        "id": "hxSX2FxDL0H8"
      },
      "execution_count": null,
      "outputs": []
    },
    {
      "cell_type": "markdown",
      "source": [
        "###다양한 함수 그래프 그리기\n",
        "##1. 시그모이드 함수\n",
        "##2. 손실함수"
      ],
      "metadata": {
        "id": "_qA75zXQOcVa"
      }
    },
    {
      "cell_type": "code",
      "source": [
        "import matplotlib.pyplot as plt\n",
        "import numpy as np\n",
        "from sklearn.linear_model import LinearRegression\n",
        "from sklearn.preprocessing import PolynomialFeatures\n",
        "from sklearn.pipeline import make_pipeline\n"
      ],
      "metadata": {
        "id": "5ktk7HPLeSLR"
      },
      "execution_count": null,
      "outputs": []
    },
    {
      "cell_type": "code",
      "source": [
        "x = np.arange(-10,10,0.1)\n",
        "y = 1/(1+np.exp(-x))"
      ],
      "metadata": {
        "id": "mEhVjixDfaZ-"
      },
      "execution_count": null,
      "outputs": []
    },
    {
      "cell_type": "code",
      "source": [
        "plt.plot(x,y)\n",
        "plt.title(\"Sigmoid Function\")\n",
        "plt.xlabel(\"x\")\n",
        "plt.ylabel(\"y\")\n",
        "plt.show()"
      ],
      "metadata": {
        "id": "L7MjsvTifYqi"
      },
      "execution_count": null,
      "outputs": []
    },
    {
      "cell_type": "code",
      "source": [
        "##2. 손실함수, 평균제곱오차 함수\n",
        "errors = np.linspace(-5, 5, 100)\n",
        "mse_values = errors ** 2\n",
        "\n",
        "plt.figure(figsize=(10, 6))\n",
        "plt.plot(errors, mse_values, 'b-', linewidth=2, label='MSE = (y_true - y_pred)²')\n",
        "plt.xlabel('Error (y_true - y_pred)')\n",
        "plt.ylabel('Mean Squared Error')\n",
        "plt.title('Mean Squared Error Function')\n",
        "plt.grid(True, alpha=0.3)\n",
        "plt.legend()\n",
        "plt.show()\n"
      ],
      "metadata": {
        "id": "jdZWtW1CjWXn"
      },
      "execution_count": null,
      "outputs": []
    },
    {
      "cell_type": "code",
      "source": [
        "# 간단한 선형회귀 문제 생성\n",
        "np.random.seed(42)\n",
        "n_samples = 100\n",
        "##x,y데이터 랜덤 생성\n",
        "X = np.random.randn(n_samples, 1)\n",
        "y = 2 * X.ravel() + 1 + 0.1 * np.random.randn(n_samples)\n",
        "\n",
        "# 경사하강법 구현\n",
        "def gradient_descent(X, y, lr=0.01, epochs=100):\n",
        "    m, n = X.shape\n",
        "    # 절편을 위한 bias 컬럼 추가\n",
        "    X_with_bias = np.c_[np.ones((m, 1)), X]\n",
        "\n",
        "    # 가중치 초기화\n",
        "    theta = np.random.randn(n + 1, 1)\n",
        "    mse_history = []\n",
        "\n",
        "    for epoch in range(epochs):\n",
        "        # 예측\n",
        "        predictions = X_with_bias.dot(theta)\n",
        "\n",
        "        # MSE 계산\n",
        "        mse = np.mean((predictions.ravel() - y) ** 2)\n",
        "        mse_history.append(mse)\n",
        "\n",
        "        # 그래디언트 계산\n",
        "        gradients = 2/m * X_with_bias.T.dot(predictions - y.reshape(-1, 1))\n",
        "\n",
        "        # 가중치 업데이트\n",
        "        theta -= lr * gradients\n",
        "\n",
        "    return mse_history, theta\n",
        "\n",
        "# 경사하강법 실행\n",
        "mse_history, final_theta = gradient_descent(X, y, lr=0.1, epochs=100)\n",
        "\n",
        "# MSE 변화 그래프\n",
        "plt.figure(figsize=(10, 6))\n",
        "plt.plot(mse_history, 'b-', linewidth=2)\n",
        "plt.xlabel('Epoch')\n",
        "plt.ylabel('Mean Squared Error')\n",
        "plt.title('MSE During Gradient Descent Training')\n",
        "plt.grid(True, alpha=0.3)\n",
        "plt.show()"
      ],
      "metadata": {
        "id": "DYrYyuT5rcSy"
      },
      "execution_count": null,
      "outputs": []
    }
  ]
}